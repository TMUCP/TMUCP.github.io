{
 "cells": [
  {
   "cell_type": "markdown",
   "metadata": {},
   "source": [
    "**Your Name:**\n",
    "\n",
    "**Student ID:**"
   ]
  },
  {
   "cell_type": "markdown",
   "metadata": {},
   "source": [
    "# Homework 0"
   ]
  },
  {
   "cell_type": "markdown",
   "metadata": {},
   "source": [
    "**Start:** 9 Esfand 1400\n",
    "\n",
    "**Due to:** 15 Esfand 1400\n"
   ]
  },
  {
   "cell_type": "markdown",
   "metadata": {},
   "source": [
    "> \"In some ways, programming is like painting. You start with a blank canvas and certain basic raw materials. You use a combination of science, art, and craft to determine what to do with them.\" - Andrew Hunt"
   ]
  },
  {
   "cell_type": "markdown",
   "metadata": {},
   "source": [
    "Your first homework! grab cup of cofee/tea find a quiet place and start!\n",
    "Please:\n",
    "- Start doing it soon\n",
    "- Google it! (best way of learning)\n",
    "- Ask us, Any time Anything!!\n",
    "\n",
    "**Twelve** questions, too many?? don't worry, most of them are for you to think."
   ]
  },
  {
   "cell_type": "markdown",
   "metadata": {},
   "source": [
    "# To Think!"
   ]
  },
  {
   "cell_type": "markdown",
   "metadata": {},
   "source": [
    "### Question 1\n",
    "\n",
    "When we add `int` and `float` variables, what would happen? How will Python add those two numbers, and what would be the result?\n",
    "\n",
    "**Reminder:**\n",
    "\n",
    "integer = عدد صحیح\n",
    "\n",
    "float = عدد اعشاری"
   ]
  },
  {
   "cell_type": "code",
   "execution_count": 20,
   "metadata": {},
   "outputs": [],
   "source": [
    "a = 1\n",
    "b = 2.4\n",
    "c = a + b"
   ]
  },
  {
   "cell_type": "code",
   "execution_count": 21,
   "metadata": {},
   "outputs": [
    {
     "data": {
      "text/plain": [
       "3.4"
      ]
     },
     "execution_count": 21,
     "metadata": {},
     "output_type": "execute_result"
    }
   ],
   "source": [
    "c"
   ]
  },
  {
   "cell_type": "markdown",
   "metadata": {},
   "source": [
    "Tell us:"
   ]
  },
  {
   "cell_type": "markdown",
   "metadata": {},
   "source": []
  },
  {
   "cell_type": "markdown",
   "metadata": {},
   "source": [
    "### Question 2\n",
    "\n",
    "A Python program accesses data values through references. A reference is a name that refers to the specific location in memory of a value (object). References take the form of variables, attributes, and items. In Python, a variable or other reference has no intrinsic type. However, the object to which a reference is bound at a given time does have a type.\n",
    "\n",
    "\n",
    "Think about this scenario:\n",
    "```python\n",
    "value1 = 26\n",
    "value2 = value1\n",
    "```\n",
    "What do you think about their location in RAM?\n",
    "the following code will give you the address of the two variables, think about the result, and discuss it in the group"
   ]
  },
  {
   "cell_type": "code",
   "execution_count": 22,
   "metadata": {},
   "outputs": [
    {
     "name": "stdout",
     "output_type": "stream",
     "text": [
      "93893909696608 93893909696608\n"
     ]
    }
   ],
   "source": [
    "value1 = 26\n",
    "value2 = value1\n",
    "\n",
    "value1_address1 = id(value1)\n",
    "value2_address2 = id(value2)\n",
    "\n",
    "print(value1_address1, value2_address2)"
   ]
  },
  {
   "cell_type": "markdown",
   "metadata": {},
   "source": [
    "Tell us:"
   ]
  },
  {
   "cell_type": "markdown",
   "metadata": {},
   "source": []
  },
  {
   "cell_type": "markdown",
   "metadata": {},
   "source": [
    "### Question 3\n",
    "\n",
    "But what is happening here?\n",
    "why $0.1 + 0.2$ is not $0.3$ ???"
   ]
  },
  {
   "cell_type": "code",
   "execution_count": 26,
   "metadata": {},
   "outputs": [
    {
     "data": {
      "text/plain": [
       "0.30000000000000004"
      ]
     },
     "execution_count": 26,
     "metadata": {},
     "output_type": "execute_result"
    }
   ],
   "source": [
    "0.1 + 0.2"
   ]
  },
  {
   "cell_type": "markdown",
   "metadata": {},
   "source": [
    "Tell us:"
   ]
  },
  {
   "cell_type": "markdown",
   "metadata": {},
   "source": []
  },
  {
   "cell_type": "markdown",
   "metadata": {},
   "source": [
    "### Question 4\n",
    "Do you know how computers store Data and how the code works?"
   ]
  },
  {
   "cell_type": "markdown",
   "metadata": {},
   "source": [
    "Tell us:"
   ]
  },
  {
   "cell_type": "markdown",
   "metadata": {},
   "source": []
  },
  {
   "cell_type": "markdown",
   "metadata": {},
   "source": [
    "# Do it!"
   ]
  },
  {
   "cell_type": "markdown",
   "metadata": {},
   "source": [
    "We use comments when we want to explain something and don't want Python to think about it as a code. So comments are just for commenting and explaining the code we are writing and would not be executed by Python.\n",
    "There are two types of comments:\n",
    "- single-line comment\n",
    "```python\n",
    "# this is a comment\n",
    "```\n",
    "- multi-line comment\n",
    "\n",
    "```python\n",
    "\n",
    "\"\"\"\n",
    "evereything in between this Triple quotes is a comment\n",
    "so I can write here!\n",
    "or here\n",
    "\n",
    "\n",
    "here                        or even here!\n",
    "\"\"\"\n",
    "\n",
    "```"
   ]
  },
  {
   "cell_type": "markdown",
   "metadata": {},
   "source": [
    "### Question 5\n",
    "\n",
    "Add a description for the code, by using comments"
   ]
  },
  {
   "cell_type": "code",
   "execution_count": 23,
   "metadata": {},
   "outputs": [
    {
     "name": "stdout",
     "output_type": "stream",
     "text": [
      "44\n"
     ]
    }
   ],
   "source": [
    "num = 22\n",
    "a = 2*num\n",
    "print(a)"
   ]
  },
  {
   "cell_type": "markdown",
   "metadata": {},
   "source": [
    "### Question 6\n",
    "\n",
    "when we want to get a number from a user, we can do it with `input`, **but** the `input` doesn't understand the type of variable and will always give us string (`str`), so if the user input was a type like `int` or `float` we should cast it, the syntax would be as follow:\n",
    "\n",
    "```python\n",
    "x = input(\"give me an integer number\")\n",
    "x = int(x)\n",
    "print(x)\n",
    "```\n",
    "\n",
    "Do the same thing for a float number:"
   ]
  },
  {
   "cell_type": "code",
   "execution_count": null,
   "metadata": {},
   "outputs": [],
   "source": [
    "x = ---\n",
    "x = ---\n",
    "print(x)"
   ]
  },
  {
   "cell_type": "markdown",
   "metadata": {},
   "source": [
    "## List\n",
    "\n",
    "### Question 7\n",
    "\n",
    "we learnd about lists and we know that they have a syntax like this:\n",
    "```python\n",
    "list_1 = [1,2,3,4]\n",
    "```\n",
    "here we want you to:\n",
    "- Creat a list\n",
    "- Get a value from the user\n",
    "- append the value to the list"
   ]
  },
  {
   "cell_type": "code",
   "execution_count": 52,
   "metadata": {},
   "outputs": [],
   "source": [
    "# create a list\n",
    "\n",
    "\n",
    "\n",
    "# get a value from the user\n",
    "\n",
    "\n",
    "\n",
    "# append a value to the list\n",
    "\n"
   ]
  },
  {
   "cell_type": "markdown",
   "metadata": {},
   "source": [
    "### Question 8\n",
    "\n",
    "1. Here we want you to find the first and last element of the list and print it."
   ]
  },
  {
   "cell_type": "code",
   "execution_count": 54,
   "metadata": {},
   "outputs": [],
   "source": [
    "# print the first element\n",
    "\n",
    "# print the last element\n"
   ]
  },
  {
   "cell_type": "markdown",
   "metadata": {},
   "source": [
    "2. can you print out a sorted list?"
   ]
  },
  {
   "cell_type": "code",
   "execution_count": null,
   "metadata": {},
   "outputs": [],
   "source": []
  },
  {
   "cell_type": "markdown",
   "metadata": {},
   "source": [
    "## Dictionary\n",
    "\n",
    "### Question 9\n",
    "\n",
    "create a dictionary and add a value to it"
   ]
  },
  {
   "cell_type": "code",
   "execution_count": 18,
   "metadata": {},
   "outputs": [],
   "source": [
    "# Create a dictionary\n",
    "dict1 = ...\n",
    "\n",
    "# Add a value to dictionary\n"
   ]
  },
  {
   "cell_type": "markdown",
   "metadata": {},
   "source": [
    "### Question 10\n",
    "\n",
    "Now that you have become such an expert in the dictionary! Go ahead and do this exercise that actually can help someone out there!\n",
    "\n",
    "Create a dictionary with five words with their associate translations and get a string from the user and translate it (by printing it)."
   ]
  },
  {
   "cell_type": "code",
   "execution_count": 19,
   "metadata": {},
   "outputs": [],
   "source": [
    "# create dictionary of five words\n",
    "word_dict = {}\n",
    "\n",
    "# get a word from the user\n",
    "word = ...\n",
    "\n",
    "# find the meaning of the word from your dictionary\n",
    "\n",
    "\n",
    "# print out the result\n"
   ]
  },
  {
   "cell_type": "markdown",
   "metadata": {},
   "source": [
    "# Booleans\n",
    "\n",
    "### Question 11\n",
    "\n",
    "What do you think about the result of multiplying a boolean value by a number?\n",
    "What about comparing them to integers?\n",
    "\n",
    "**Note:** a boolean is a type of value that can be either `True` or `False`"
   ]
  },
  {
   "cell_type": "code",
   "execution_count": 27,
   "metadata": {},
   "outputs": [
    {
     "data": {
      "text/plain": [
       "11"
      ]
     },
     "execution_count": 27,
     "metadata": {},
     "output_type": "execute_result"
    }
   ],
   "source": [
    "True * 11"
   ]
  },
  {
   "cell_type": "code",
   "execution_count": 28,
   "metadata": {},
   "outputs": [
    {
     "data": {
      "text/plain": [
       "0"
      ]
     },
     "execution_count": 28,
     "metadata": {},
     "output_type": "execute_result"
    }
   ],
   "source": [
    "False*12"
   ]
  },
  {
   "cell_type": "code",
   "execution_count": 29,
   "metadata": {},
   "outputs": [
    {
     "data": {
      "text/plain": [
       "False"
      ]
     },
     "execution_count": 29,
     "metadata": {},
     "output_type": "execute_result"
    }
   ],
   "source": [
    "True == 0"
   ]
  },
  {
   "cell_type": "code",
   "execution_count": 30,
   "metadata": {},
   "outputs": [
    {
     "data": {
      "text/plain": [
       "True"
      ]
     },
     "execution_count": 30,
     "metadata": {},
     "output_type": "execute_result"
    }
   ],
   "source": [
    "True == 1"
   ]
  },
  {
   "cell_type": "code",
   "execution_count": 31,
   "metadata": {},
   "outputs": [
    {
     "data": {
      "text/plain": [
       "False"
      ]
     },
     "execution_count": 31,
     "metadata": {},
     "output_type": "execute_result"
    }
   ],
   "source": [
    "True == 3"
   ]
  },
  {
   "cell_type": "markdown",
   "metadata": {},
   "source": [
    "Tell us:"
   ]
  },
  {
   "cell_type": "markdown",
   "metadata": {},
   "source": []
  },
  {
   "cell_type": "markdown",
   "metadata": {},
   "source": [
    "### Question 12\n",
    "\n",
    "Think about the result of the print:\n",
    "\n",
    "```python\n",
    "print(\"*-*\"*20)\n",
    "```\n",
    "see those two examples what do you think about them?"
   ]
  },
  {
   "cell_type": "code",
   "execution_count": 45,
   "metadata": {},
   "outputs": [
    {
     "name": "stdout",
     "output_type": "stream",
     "text": [
      " ^\\_|0_0|_/^  ^\\_|0_0|_/^  ^\\_|0_0|_/^  ^\\_|0_0|_/^  ^\\_|0_0|_/^  ^\\_|0_0|_/^  ^\\_|0_0|_/^  ^\\_|0_0|_/^  ^\\_|0_0|_/^  ^\\_|0_0|_/^ \n"
     ]
    }
   ],
   "source": [
    "print(\" ^\\_|0_0|_/^ \"*10 )"
   ]
  },
  {
   "cell_type": "code",
   "execution_count": 49,
   "metadata": {},
   "outputs": [
    {
     "name": "stdout",
     "output_type": "stream",
     "text": [
      "73535353528\n"
     ]
    }
   ],
   "source": [
    "print(int(\"13\"*5)*56)"
   ]
  },
  {
   "cell_type": "markdown",
   "metadata": {},
   "source": [
    "Tell us:"
   ]
  },
  {
   "cell_type": "markdown",
   "metadata": {},
   "source": []
  },
  {
   "cell_type": "markdown",
   "metadata": {},
   "source": [
    "Good luck!"
   ]
  }
 ],
 "metadata": {
  "kernelspec": {
   "display_name": "Python 3",
   "language": "python",
   "name": "python3"
  },
  "language_info": {
   "codemirror_mode": {
    "name": "ipython",
    "version": 3
   },
   "file_extension": ".py",
   "mimetype": "text/x-python",
   "name": "python",
   "nbconvert_exporter": "python",
   "pygments_lexer": "ipython3",
   "version": "3.8.5"
  }
 },
 "nbformat": 4,
 "nbformat_minor": 4
}
