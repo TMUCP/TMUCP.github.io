{
 "cells": [
  {
   "cell_type": "markdown",
   "metadata": {},
   "source": [
    "**Your Name:**\n",
    "\n",
    "**Student ID:**"
   ]
  },
  {
   "cell_type": "markdown",
   "metadata": {},
   "source": [
    "# Homework 2\n"
   ]
  },
  {
   "cell_type": "markdown",
   "metadata": {},
   "source": [
    "**Due to:** 15 Farvardin 1401\n",
    "\n",
    "**video_link:** [Homework 2 video description](https://aparat.com/v/GgPlj)"
   ]
  },
  {
   "attachments": {},
   "cell_type": "markdown",
   "metadata": {},
   "source": [
    "Hollywood Introduction to **Euler Method:** [Hidden Figures](https://aparat.com/v/xFMcP)"
   ]
  },
  {
   "cell_type": "markdown",
   "metadata": {},
   "source": [
    "If you want, you can open this notebook in google colab by clicking on this icon:\n",
    "\n",
    "<a href=\"https://colab.research.google.com/github/TMUCP/TMUCP.github.io/blob/main/Homeworks/Homework_1.ipynb\" target=\"_parent\"><img src=\"https://colab.research.google.com/assets/colab-badge.svg\" alt=\"Open In Colab\"/></a>\n"
   ]
  },
  {
   "cell_type": "markdown",
   "metadata": {},
   "source": [
    "Grab a cup of coffee/tea, find a quiet place and start!\n",
    "\n",
    "**Please:**\n",
    "- Start doing it soon\n",
    "- Google it! (best way of learning)\n",
    "- Ask us, Any time Anything!!"
   ]
  },
  {
   "cell_type": "markdown",
   "metadata": {},
   "source": [
    "## Requirements\n",
    "\n",
    "You need to know something about `matplotlib` to plot the results. Here, you can find a simple example of the plotting process. I will attach a video explaining it in more detail.\n"
   ]
  },
  {
   "cell_type": "code",
   "execution_count": 19,
   "metadata": {},
   "outputs": [
    {
     "data": {
      "image/png": "[encoded data removed]",
      "text/plain": [
       "<Figure size 432x288 with 1 Axes>"
      ]
     },
     "metadata": {
      "needs_background": "light"
     },
     "output_type": "display_data"
    }
   ],
   "source": [
    "import matplotlib.pyplot as plt\n",
    "\n",
    "x = [1,2,3,4] # data of x-axis\n",
    "y = [2,3,4,5] # data of y-axis\n",
    "\n",
    "plt.plot(x,y) # plotting x-y\n",
    "plt.show() # showing the results"
   ]
  },
  {
   "cell_type": "markdown",
   "metadata": {},
   "source": [
    "But what if I wanted to plot two different data into the exact figure?\n",
    "It is relatively simple too!\n",
    "You do it twice and use the `plt.show()` at the end."
   ]
  },
  {
   "cell_type": "code",
   "execution_count": 22,
   "metadata": {},
   "outputs": [
    {
     "data": {
      "image/png": "[encoded data removed]",
      "text/plain": [
       "<Figure size 432x288 with 1 Axes>"
      ]
     },
     "metadata": {
      "needs_background": "light"
     },
     "output_type": "display_data"
    }
   ],
   "source": [
    "import matplotlib.pyplot as plt\n",
    "\n",
    "x = [1,2,3,4] # first data of x-axis\n",
    "y = [2,3,4,5] # first data of y-axis\n",
    "\n",
    "plt.plot(x,y) # plotting x-y\n",
    "\n",
    "x = [1,2.5,3.1,4.6] # second data of x-axis\n",
    "y = [2,3,4,5] # second data of y-axis\n",
    "\n",
    "plt.plot(x,y) # plotting x-y\n",
    "\n",
    "plt.show() # showing the results"
   ]
  },
  {
   "cell_type": "markdown",
   "metadata": {},
   "source": [
    "**Note:** the whole integration process is just a for loop, so you can iterate over and `append` the values that you calculate into a list and plot it."
   ]
  },
  {
   "cell_type": "markdown",
   "metadata": {
    "direction": "rtl"
   },
   "source": [
    "\n",
    "# تمرین 1 \n",
    "\n",
    "فرض کنید $f(t,x) = 5$، $x(0) = 0$ و $\\Delta t = 0.1$ در اینصورت جواب تحلیلی با انتگرال گیری از معادله تحول ($dx/dt = f$) برابر با $5t$ خواهد بود. با استفاده از روش اویلر مسیر حرکت را بدست آورید و با جواب تحلیلی مقایسه کنید.\n"
   ]
  },
  {
   "cell_type": "code",
   "execution_count": 14,
   "metadata": {},
   "outputs": [],
   "source": [
    "# main cell\n",
    "\n"
   ]
  },
  {
   "cell_type": "code",
   "execution_count": 15,
   "metadata": {},
   "outputs": [],
   "source": [
    "# plot cell\n",
    "\n"
   ]
  },
  {
   "cell_type": "markdown",
   "metadata": {
    "direction": "rtl"
   },
   "source": [
    "\n",
    "# تمرین 2 \n",
    "\n",
    "فرض کنید $f(t,x) = 2t$، $x(0) = 0$ و $\\Delta t = 0.1$ در اینصورت جواب تحلیلی با انتگرال گیری از معادله تحول ($dx/dt = f$) برابر با $t^2$ خواهد بود. با استفاده از روش اویلر مسیر حرکت را بدست آورید و با جواب تحلیلی مقایسه کنید.\n"
   ]
  },
  {
   "cell_type": "code",
   "execution_count": null,
   "metadata": {},
   "outputs": [],
   "source": [
    "# main cell\n"
   ]
  },
  {
   "cell_type": "code",
   "execution_count": null,
   "metadata": {},
   "outputs": [],
   "source": [
    "# plot cell\n"
   ]
  },
  {
   "cell_type": "markdown",
   "metadata": {
    "direction": "rtl"
   },
   "source": [
    "\n",
    "# تمرین 3 \n",
    "\n",
    "فرض کنید $f(t,x) = \\alpha t$، $x(0) = 0$، $\\alpha = 2$ و $\\Delta t = 0.1$ در اینصورت جواب تحلیلی با انتگرال گیری از معادله تحول ($dx/dt = f$) برابر با $x(t) = x(0) exp(\\alpha t)$ خواهد بود. با استفاده از روش اویلر مسیر حرکت را بدست آورید و با جواب تحلیلی مقایسه کنید.\n"
   ]
  },
  {
   "cell_type": "code",
   "execution_count": null,
   "metadata": {},
   "outputs": [],
   "source": [
    "# main cell\n"
   ]
  },
  {
   "cell_type": "code",
   "execution_count": null,
   "metadata": {},
   "outputs": [],
   "source": [
    "# plot cell\n"
   ]
  },
  {
   "cell_type": "markdown",
   "metadata": {},
   "source": [
    "Good luck!"
   ]
  }
 ],
 "metadata": {
  "kernelspec": {
   "display_name": "Python 3 (ipykernel)",
   "language": "python",
   "name": "python3"
  },
  "language_info": {
   "codemirror_mode": {
    "name": "ipython",
    "version": 3
   },
   "file_extension": ".py",
   "mimetype": "text/x-python",
   "name": "python",
   "nbconvert_exporter": "python",
   "pygments_lexer": "ipython3",
   "version": "3.9.5"
  }
 },
 "nbformat": 4,
 "nbformat_minor": 4
}
