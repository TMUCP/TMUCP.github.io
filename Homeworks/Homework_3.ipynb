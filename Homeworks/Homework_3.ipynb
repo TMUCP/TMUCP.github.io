{
 "cells": [
  {
   "cell_type": "markdown",
   "metadata": {},
   "source": [
    "**Your Name:**\n",
    "\n",
    "**Student ID:**"
   ]
  },
  {
   "cell_type": "markdown",
   "metadata": {},
   "source": [
    "# Homework 3\n"
   ]
  },
  {
   "cell_type": "markdown",
   "metadata": {},
   "source": [
    "**start:** 14 Farvardin 1401\n",
    "\n",
    "**Due to:** 21 Farvardin 1401\n"
   ]
  },
  {
   "cell_type": "markdown",
   "metadata": {},
   "source": [
    "If you want, you can open this notebook in google colab by clicking on this icon:\n",
    "\n",
    "<a href=\"https://colab.research.google.com/github/TMUCP/TMUCP.github.io/blob/main/Homeworks/Homework_3.ipynb\" target=\"_parent\"><img src=\"https://colab.research.google.com/assets/colab-badge.svg\" alt=\"Open In Colab\"/></a>\n"
   ]
  },
  {
   "cell_type": "markdown",
   "metadata": {},
   "source": [
    "Grab a cup of coffee/tea, find a quiet place and start!\n",
    "\n",
    "**Please:**\n",
    "- Start doing it soon\n",
    "- Google it! (best way of learning)\n",
    "- Ask us, Any time Anything!!"
   ]
  },
  {
   "cell_type": "markdown",
   "metadata": {
    "direction": "rtl"
   },
   "source": [
    "\n",
    "# تمرین 1 \n",
    "فرض کنید ذره‌ای تحت شتاب گرانش $a(t,y,\\dot{y}) = g$ در حال حرکت است. اگر ذره از زمان $t=0$ با سرعت $v_0 =2$ از ارتفاع $y = 1000$ شروع به حرکت کند،\n",
    "\n",
    "- الف) مسیر و سرعت حرکت ذره را با فرض $dt=0.1$ تا لحظه‌ی $t=10$ محاسبه و در دو نمودار جداگانه رسم کنید.\n",
    "- ب) نمودارهای تحلیلی مسیر و سرعت ذره را رسم کرده و با حل عددی قسمت قبل مقایسه کنید.\n",
    "- ج) نمودار خطای مطلق $|y_{sim} - t_{th}|$ و خطای مطلق سرعت را برحسب زمان رسم کنید. آیا نتیجه بدست آمده با انتظار شما مطابقت دارد؟\n"
   ]
  },
  {
   "cell_type": "code",
   "execution_count": 14,
   "metadata": {},
   "outputs": [],
   "source": [
    "# main cell\n",
    "\n"
   ]
  },
  {
   "cell_type": "code",
   "execution_count": 15,
   "metadata": {},
   "outputs": [],
   "source": [
    "# plot cell\n",
    "\n"
   ]
  },
  {
   "cell_type": "markdown",
   "metadata": {
    "direction": "rtl"
   },
   "source": [
    "\n",
    "\n",
    "# تمرین ۲ \n",
    "\n",
    "فرض کنید ذره‌ای تحت نیروی فنر،  $a(t,x,\\dot{x}) = -kx$ در حال حرکت است. اگر ذره از زمان $t=0$ با سرعت $v_0 =0$ شروع به حرکت کند،\n",
    "\n",
    "- الف) مسیر و سرعت حرکت ذره را با فرض $dt=0.02$ تا لحظه‌ی $t=5$ محاسبه و در دو نمودار جداگانه رسم کنید.\n",
    "- ب) نمودارهای تحلیلی مسیر و سرعت ذره را رسم کرده و با حل عددی قسمت قبل مقایسه کنید.\n",
    "- ج) نمودار خطای مطلق $|x_{sim} - x_{th}|$ و خطای مطلق سرعت را برحسب زمان رسم کنید. آیا نتیجه بدست آمده با انتظار شما مطابقت دارد؟\n"
   ]
  },
  {
   "cell_type": "markdown",
   "metadata": {
    "direction": "rtl"
   },
   "source": [
    "**توجه**: همه‌ی کمیت‌ها در دو تمرین بالا در دستگاه SI داده شده‌اند."
   ]
  },
  {
   "cell_type": "code",
   "execution_count": null,
   "metadata": {},
   "outputs": [],
   "source": [
    "# main cell\n"
   ]
  },
  {
   "cell_type": "code",
   "execution_count": null,
   "metadata": {},
   "outputs": [],
   "source": [
    "# plot cell\n"
   ]
  },
  {
   "cell_type": "markdown",
   "metadata": {},
   "source": [
    "Good luck!"
   ]
  }
 ],
 "metadata": {
  "kernelspec": {
   "display_name": "Python 3 (ipykernel)",
   "language": "python",
   "name": "python3"
  },
  "language_info": {
   "codemirror_mode": {
    "name": "ipython",
    "version": 3
   },
   "file_extension": ".py",
   "mimetype": "text/x-python",
   "name": "python",
   "nbconvert_exporter": "python",
   "pygments_lexer": "ipython3",
   "version": "3.9.5"
  }
 },
 "nbformat": 4,
 "nbformat_minor": 4
}
