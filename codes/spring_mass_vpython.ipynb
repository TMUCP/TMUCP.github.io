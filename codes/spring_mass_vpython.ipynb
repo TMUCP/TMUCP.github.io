{
 "cells": [
  {
   "cell_type": "code",
   "execution_count": 2,
   "id": "a479386f",
   "metadata": {
    "collapsed": true
   },
   "outputs": [
    {
     "name": "stdout",
     "output_type": "stream",
     "text": [
      "Collecting vpython\n",
      "  Downloading vpython-7.6.3-cp39-cp39-manylinux_2_5_x86_64.manylinux1_x86_64.manylinux_2_12_x86_64.manylinux2010_x86_64.whl (3.7 MB)\n",
      "\u001b[K     |████████████████████████████████| 3.7 MB 36 kB/s eta 0:00:016\n",
      "\u001b[?25hRequirement already satisfied: ipykernel in /home/morteza/miniconda3/lib/python3.9/site-packages (from vpython) (6.5.0)\n",
      "Collecting autobahn>=18.8.2\n",
      "  Downloading autobahn-22.3.2.tar.gz (376 kB)\n",
      "\u001b[K     |████████████████████████████████| 376 kB 85 kB/s eta 0:00:01\n",
      "\u001b[?25hRequirement already satisfied: jupyter in /home/morteza/miniconda3/lib/python3.9/site-packages (from vpython) (1.0.0)\n",
      "Requirement already satisfied: numpy in /home/morteza/miniconda3/lib/python3.9/site-packages (from vpython) (1.21.3)\n",
      "Collecting jupyter-server-proxy\n",
      "  Downloading jupyter_server_proxy-3.2.1-py3-none-any.whl (35 kB)\n",
      "Collecting txaio>=21.2.1\n",
      "  Downloading txaio-22.2.1-py2.py3-none-any.whl (30 kB)\n",
      "Requirement already satisfied: cryptography>=3.4.6 in /home/morteza/miniconda3/lib/python3.9/site-packages (from autobahn>=18.8.2->vpython) (36.0.0)\n",
      "Requirement already satisfied: hyperlink>=21.0.0 in /home/morteza/miniconda3/lib/python3.9/site-packages (from autobahn>=18.8.2->vpython) (21.0.0)\n",
      "Requirement already satisfied: setuptools in /home/morteza/miniconda3/lib/python3.9/site-packages (from autobahn>=18.8.2->vpython) (58.5.3)\n",
      "Requirement already satisfied: cffi>=1.12 in /home/morteza/miniconda3/lib/python3.9/site-packages (from cryptography>=3.4.6->autobahn>=18.8.2->vpython) (1.15.0)\n",
      "Requirement already satisfied: pycparser in /home/morteza/miniconda3/lib/python3.9/site-packages (from cffi>=1.12->cryptography>=3.4.6->autobahn>=18.8.2->vpython) (2.21)\n",
      "Requirement already satisfied: idna>=2.5 in /home/morteza/miniconda3/lib/python3.9/site-packages (from hyperlink>=21.0.0->autobahn>=18.8.2->vpython) (3.3)\n",
      "Requirement already satisfied: ipython<8.0,>=7.23.1 in /home/morteza/miniconda3/lib/python3.9/site-packages (from ipykernel->vpython) (7.29.0)\n",
      "Requirement already satisfied: jupyter-client<8.0 in /home/morteza/miniconda3/lib/python3.9/site-packages (from ipykernel->vpython) (7.1.2)\n",
      "Requirement already satisfied: traitlets<6.0,>=5.1.0 in /home/morteza/miniconda3/lib/python3.9/site-packages (from ipykernel->vpython) (5.1.1)\n",
      "Requirement already satisfied: matplotlib-inline<0.2.0,>=0.1.0 in /home/morteza/miniconda3/lib/python3.9/site-packages (from ipykernel->vpython) (0.1.3)\n",
      "Requirement already satisfied: debugpy<2.0,>=1.0.0 in /home/morteza/miniconda3/lib/python3.9/site-packages (from ipykernel->vpython) (1.5.1)\n",
      "Requirement already satisfied: tornado<7.0,>=4.2 in /home/morteza/miniconda3/lib/python3.9/site-packages (from ipykernel->vpython) (6.1)\n",
      "Requirement already satisfied: prompt-toolkit!=3.0.0,!=3.0.1,<3.1.0,>=2.0.0 in /home/morteza/miniconda3/lib/python3.9/site-packages (from ipython<8.0,>=7.23.1->ipykernel->vpython) (3.0.22)\n",
      "Requirement already satisfied: jedi>=0.16 in /home/morteza/miniconda3/lib/python3.9/site-packages (from ipython<8.0,>=7.23.1->ipykernel->vpython) (0.18.1)\n",
      "Requirement already satisfied: pickleshare in /home/morteza/miniconda3/lib/python3.9/site-packages (from ipython<8.0,>=7.23.1->ipykernel->vpython) (0.7.5)\n",
      "Requirement already satisfied: pygments in /home/morteza/miniconda3/lib/python3.9/site-packages (from ipython<8.0,>=7.23.1->ipykernel->vpython) (2.11.2)\n",
      "Requirement already satisfied: decorator in /home/morteza/miniconda3/lib/python3.9/site-packages (from ipython<8.0,>=7.23.1->ipykernel->vpython) (5.1.1)\n",
      "Requirement already satisfied: backcall in /home/morteza/miniconda3/lib/python3.9/site-packages (from ipython<8.0,>=7.23.1->ipykernel->vpython) (0.2.0)\n",
      "Requirement already satisfied: pexpect>4.3 in /home/morteza/miniconda3/lib/python3.9/site-packages (from ipython<8.0,>=7.23.1->ipykernel->vpython) (4.8.0)\n",
      "Requirement already satisfied: parso<0.9.0,>=0.8.0 in /home/morteza/miniconda3/lib/python3.9/site-packages (from jedi>=0.16->ipython<8.0,>=7.23.1->ipykernel->vpython) (0.8.3)\n",
      "Requirement already satisfied: pyzmq>=13 in /home/morteza/miniconda3/lib/python3.9/site-packages (from jupyter-client<8.0->ipykernel->vpython) (22.3.0)\n",
      "Requirement already satisfied: entrypoints in /home/morteza/miniconda3/lib/python3.9/site-packages (from jupyter-client<8.0->ipykernel->vpython) (0.3)\n",
      "Requirement already satisfied: nest-asyncio>=1.5 in /home/morteza/miniconda3/lib/python3.9/site-packages (from jupyter-client<8.0->ipykernel->vpython) (1.5.1)\n",
      "Requirement already satisfied: jupyter-core>=4.6.0 in /home/morteza/miniconda3/lib/python3.9/site-packages (from jupyter-client<8.0->ipykernel->vpython) (4.9.1)\n",
      "Requirement already satisfied: python-dateutil>=2.1 in /home/morteza/miniconda3/lib/python3.9/site-packages (from jupyter-client<8.0->ipykernel->vpython) (2.8.2)\n",
      "Requirement already satisfied: ptyprocess>=0.5 in /home/morteza/miniconda3/lib/python3.9/site-packages (from pexpect>4.3->ipython<8.0,>=7.23.1->ipykernel->vpython) (0.7.0)\n",
      "Requirement already satisfied: wcwidth in /home/morteza/miniconda3/lib/python3.9/site-packages (from prompt-toolkit!=3.0.0,!=3.0.1,<3.1.0,>=2.0.0->ipython<8.0,>=7.23.1->ipykernel->vpython) (0.2.5)\n",
      "Requirement already satisfied: six>=1.5 in /home/morteza/miniconda3/lib/python3.9/site-packages (from python-dateutil>=2.1->jupyter-client<8.0->ipykernel->vpython) (1.16.0)\n",
      "Requirement already satisfied: jupyter-console in /home/morteza/miniconda3/lib/python3.9/site-packages (from jupyter->vpython) (6.4.0)\n",
      "Requirement already satisfied: qtconsole in /home/morteza/miniconda3/lib/python3.9/site-packages (from jupyter->vpython) (5.1.1)\n",
      "Requirement already satisfied: notebook in /home/morteza/miniconda3/lib/python3.9/site-packages (from jupyter->vpython) (6.4.6)\n",
      "Requirement already satisfied: ipywidgets in /home/morteza/miniconda3/lib/python3.9/site-packages (from jupyter->vpython) (7.6.5)\n",
      "Requirement already satisfied: nbconvert in /home/morteza/miniconda3/lib/python3.9/site-packages (from jupyter->vpython) (6.3.0)\n",
      "Requirement already satisfied: nbformat>=4.2.0 in /home/morteza/miniconda3/lib/python3.9/site-packages (from ipywidgets->jupyter->vpython) (5.1.3)\n",
      "Requirement already satisfied: ipython-genutils~=0.2.0 in /home/morteza/miniconda3/lib/python3.9/site-packages (from ipywidgets->jupyter->vpython) (0.2.0)\n",
      "Requirement already satisfied: widgetsnbextension~=3.5.0 in /home/morteza/miniconda3/lib/python3.9/site-packages (from ipywidgets->jupyter->vpython) (3.5.2)\n",
      "Requirement already satisfied: jupyterlab-widgets>=1.0.0 in /home/morteza/miniconda3/lib/python3.9/site-packages (from ipywidgets->jupyter->vpython) (1.0.2)\n",
      "Requirement already satisfied: jsonschema!=2.5.0,>=2.4 in /home/morteza/miniconda3/lib/python3.9/site-packages (from nbformat>=4.2.0->ipywidgets->jupyter->vpython) (4.2.1)\n",
      "Requirement already satisfied: attrs>=17.4.0 in /home/morteza/miniconda3/lib/python3.9/site-packages (from jsonschema!=2.5.0,>=2.4->nbformat>=4.2.0->ipywidgets->jupyter->vpython) (21.4.0)\n",
      "Requirement already satisfied: pyrsistent!=0.17.0,!=0.17.1,!=0.17.2,>=0.14.0 in /home/morteza/miniconda3/lib/python3.9/site-packages (from jsonschema!=2.5.0,>=2.4->nbformat>=4.2.0->ipywidgets->jupyter->vpython) (0.18.0)\n",
      "Requirement already satisfied: terminado>=0.8.3 in /home/morteza/miniconda3/lib/python3.9/site-packages (from notebook->jupyter->vpython) (0.13.1)\n",
      "Requirement already satisfied: Send2Trash>=1.8.0 in /home/morteza/miniconda3/lib/python3.9/site-packages (from notebook->jupyter->vpython) (1.8.0)\n",
      "Requirement already satisfied: argon2-cffi in /home/morteza/miniconda3/lib/python3.9/site-packages (from notebook->jupyter->vpython) (21.1.0)\n",
      "Requirement already satisfied: prometheus-client in /home/morteza/miniconda3/lib/python3.9/site-packages (from notebook->jupyter->vpython) (0.13.1)\n",
      "Requirement already satisfied: jinja2 in /home/morteza/miniconda3/lib/python3.9/site-packages (from notebook->jupyter->vpython) (3.0.2)\n",
      "Requirement already satisfied: MarkupSafe>=2.0 in /home/morteza/miniconda3/lib/python3.9/site-packages (from jinja2->notebook->jupyter->vpython) (2.0.1)\n",
      "Collecting jupyter-server>=1.0\n",
      "  Downloading jupyter_server-1.16.0-py3-none-any.whl (343 kB)\n",
      "\u001b[K     |████████████████████████████████| 343 kB 29 kB/s eta 0:00:01\n",
      "\u001b[?25hRequirement already satisfied: aiohttp in /home/morteza/miniconda3/lib/python3.9/site-packages (from jupyter-server-proxy->vpython) (3.8.1)\n"
     ]
    },
    {
     "name": "stdout",
     "output_type": "stream",
     "text": [
      "Collecting simpervisor>=0.4\n",
      "  Downloading simpervisor-0.4-py3-none-any.whl (5.7 kB)\n",
      "Collecting nbformat>=4.2.0\n",
      "  Downloading nbformat-5.3.0-py3-none-any.whl (73 kB)\n",
      "\u001b[K     |████████████████████████████████| 73 kB 42 kB/s eta 0:00:01\n",
      "\u001b[?25hCollecting nbconvert\n",
      "  Downloading nbconvert-6.5.0-py3-none-any.whl (561 kB)\n",
      "\u001b[K     |████████████████████████████████| 561 kB 79 kB/s eta 0:00:01\n",
      "\u001b[?25hCollecting websocket-client\n",
      "  Downloading websocket_client-1.3.2-py3-none-any.whl (54 kB)\n",
      "\u001b[K     |████████████████████████████████| 54 kB 94 kB/s  eta 0:00:01\n",
      "\u001b[?25hCollecting anyio>=3.1.0\n",
      "  Using cached anyio-3.5.0-py3-none-any.whl (79 kB)\n",
      "Requirement already satisfied: packaging in /home/morteza/miniconda3/lib/python3.9/site-packages (from jupyter-server>=1.0->jupyter-server-proxy->vpython) (21.3)\n",
      "Collecting sniffio>=1.1\n",
      "  Using cached sniffio-1.2.0-py3-none-any.whl (10 kB)\n",
      "Requirement already satisfied: mistune<2,>=0.8.1 in /home/morteza/miniconda3/lib/python3.9/site-packages (from nbconvert->jupyter->vpython) (0.8.4)\n",
      "Requirement already satisfied: nbclient>=0.5.0 in /home/morteza/miniconda3/lib/python3.9/site-packages (from nbconvert->jupyter->vpython) (0.5.5)\n",
      "Requirement already satisfied: bleach in /home/morteza/miniconda3/lib/python3.9/site-packages (from nbconvert->jupyter->vpython) (4.1.0)\n",
      "Requirement already satisfied: defusedxml in /home/morteza/miniconda3/lib/python3.9/site-packages (from nbconvert->jupyter->vpython) (0.7.1)\n",
      "Collecting tinycss2\n",
      "  Downloading tinycss2-1.1.1-py3-none-any.whl (21 kB)\n",
      "Requirement already satisfied: beautifulsoup4 in /home/morteza/miniconda3/lib/python3.9/site-packages (from nbconvert->jupyter->vpython) (4.10.0)\n",
      "Requirement already satisfied: jupyterlab-pygments in /home/morteza/miniconda3/lib/python3.9/site-packages (from nbconvert->jupyter->vpython) (0.1.2)\n",
      "Requirement already satisfied: pandocfilters>=1.4.1 in /home/morteza/miniconda3/lib/python3.9/site-packages (from nbconvert->jupyter->vpython) (1.5.0)\n",
      "Collecting fastjsonschema\n",
      "  Downloading fastjsonschema-2.15.3-py3-none-any.whl (22 kB)\n",
      "Requirement already satisfied: charset-normalizer<3.0,>=2.0 in /home/morteza/miniconda3/lib/python3.9/site-packages (from aiohttp->jupyter-server-proxy->vpython) (2.0.9)\n",
      "Requirement already satisfied: async-timeout<5.0,>=4.0.0a3 in /home/morteza/miniconda3/lib/python3.9/site-packages (from aiohttp->jupyter-server-proxy->vpython) (4.0.1)\n",
      "Requirement already satisfied: multidict<7.0,>=4.5 in /home/morteza/miniconda3/lib/python3.9/site-packages (from aiohttp->jupyter-server-proxy->vpython) (5.2.0)\n",
      "Requirement already satisfied: aiosignal>=1.1.2 in /home/morteza/miniconda3/lib/python3.9/site-packages (from aiohttp->jupyter-server-proxy->vpython) (1.2.0)\n",
      "Requirement already satisfied: frozenlist>=1.1.1 in /home/morteza/miniconda3/lib/python3.9/site-packages (from aiohttp->jupyter-server-proxy->vpython) (1.2.0)\n",
      "Requirement already satisfied: yarl<2.0,>=1.0 in /home/morteza/miniconda3/lib/python3.9/site-packages (from aiohttp->jupyter-server-proxy->vpython) (1.7.2)\n",
      "Requirement already satisfied: typing-extensions>=3.6.5 in /home/morteza/miniconda3/lib/python3.9/site-packages (from async-timeout<5.0,>=4.0.0a3->aiohttp->jupyter-server-proxy->vpython) (4.1.1)\n",
      "Requirement already satisfied: soupsieve>1.2 in /home/morteza/miniconda3/lib/python3.9/site-packages (from beautifulsoup4->nbconvert->jupyter->vpython) (2.3.1)\n",
      "Requirement already satisfied: webencodings in /home/morteza/miniconda3/lib/python3.9/site-packages (from bleach->nbconvert->jupyter->vpython) (0.5.1)\n",
      "Requirement already satisfied: pyparsing!=3.0.5,>=2.0.2 in /home/morteza/miniconda3/lib/python3.9/site-packages (from packaging->jupyter-server>=1.0->jupyter-server-proxy->vpython) (3.0.4)\n",
      "Requirement already satisfied: qtpy in /home/morteza/miniconda3/lib/python3.9/site-packages (from qtconsole->jupyter->vpython) (1.11.2)\n",
      "Building wheels for collected packages: autobahn\n",
      "  Building wheel for autobahn (setup.py) ... \u001b[?25ldone\n",
      "\u001b[?25h  Created wheel for autobahn: filename=autobahn-22.3.2-cp39-cp39-linux_x86_64.whl size=533927 sha256=245d150f94e36a4c233f7a315887eebe0ef353de6737f9523439bfddd2bd6c86\n",
      "  Stored in directory: /home/morteza/.cache/pip/wheels/cf/75/cd/a184b076b5af40208e261bf6504371f8b5e735fbe3a2e3c319\n",
      "Successfully built autobahn\n",
      "Installing collected packages: fastjsonschema, nbformat, tinycss2, nbconvert, sniffio, websocket-client, anyio, txaio, simpervisor, jupyter-server, jupyter-server-proxy, autobahn, vpython\n",
      "  Attempting uninstall: nbformat\n",
      "    Found existing installation: nbformat 5.1.3\n",
      "    Uninstalling nbformat-5.1.3:\n",
      "      Successfully uninstalled nbformat-5.1.3\n",
      "  Attempting uninstall: nbconvert\n",
      "    Found existing installation: nbconvert 6.3.0\n",
      "    Uninstalling nbconvert-6.3.0:\n",
      "      Successfully uninstalled nbconvert-6.3.0\n",
      "Successfully installed anyio-3.5.0 autobahn-22.3.2 fastjsonschema-2.15.3 jupyter-server-1.16.0 jupyter-server-proxy-3.2.1 nbconvert-6.5.0 nbformat-5.3.0 simpervisor-0.4 sniffio-1.2.0 tinycss2-1.1.1 txaio-22.2.1 vpython-7.6.3 websocket-client-1.3.2\n",
      "Note: you may need to restart the kernel to use updated packages.\n"
     ]
    }
   ],
   "source": [
    "!pip install vpython"
   ]
  },
  {
   "cell_type": "code",
   "execution_count": 1,
   "id": "d814e1e0",
   "metadata": {
    "collapsed": true
   },
   "outputs": [
    {
     "data": {
      "text/html": [
       "<div id=\"glowscript\" class=\"glowscript\"></div>"
      ],
      "text/plain": [
       "<IPython.core.display.HTML object>"
      ]
     },
     "metadata": {},
     "output_type": "display_data"
    },
    {
     "data": {
      "application/javascript": [
       "if (typeof Jupyter !== \"undefined\") { window.__context = { glowscript_container: $(\"#glowscript\").removeAttr(\"id\")};}else{ element.textContent = ' ';}"
      ],
      "text/plain": [
       "<IPython.core.display.Javascript object>"
      ]
     },
     "metadata": {},
     "output_type": "display_data"
    },
    {
     "data": {
      "application/javascript": [
       "if (typeof Jupyter !== \"undefined\") {require.undef(\"nbextensions/vpython_libraries/glow.min\");}else{element.textContent = ' ';}"
      ],
      "text/plain": [
       "<IPython.core.display.Javascript object>"
      ]
     },
     "metadata": {},
     "output_type": "display_data"
    },
    {
     "data": {
      "application/javascript": [
       "if (typeof Jupyter !== \"undefined\") {require.undef(\"nbextensions/vpython_libraries/glowcomm\");}else{element.textContent = ' ';}"
      ],
      "text/plain": [
       "<IPython.core.display.Javascript object>"
      ]
     },
     "metadata": {},
     "output_type": "display_data"
    },
    {
     "data": {
      "application/javascript": [
       "if (typeof Jupyter !== \"undefined\") {require.undef(\"nbextensions/vpython_libraries/jquery-ui.custom.min\");}else{element.textContent = ' ';}"
      ],
      "text/plain": [
       "<IPython.core.display.Javascript object>"
      ]
     },
     "metadata": {},
     "output_type": "display_data"
    },
    {
     "data": {
      "application/javascript": [
       "if (typeof Jupyter !== \"undefined\") {require([\"nbextensions/vpython_libraries/glow.min\"], function(){console.log(\"GLOW LOADED\");});}else{element.textContent = ' ';}"
      ],
      "text/plain": [
       "<IPython.core.display.Javascript object>"
      ]
     },
     "metadata": {},
     "output_type": "display_data"
    },
    {
     "data": {
      "application/javascript": [
       "if (typeof Jupyter !== \"undefined\") {require([\"nbextensions/vpython_libraries/glowcomm\"], function(){console.log(\"GLOWCOMM LOADED\");});}else{element.textContent = ' ';}"
      ],
      "text/plain": [
       "<IPython.core.display.Javascript object>"
      ]
     },
     "metadata": {},
     "output_type": "display_data"
    },
    {
     "data": {
      "application/javascript": [
       "if (typeof Jupyter !== \"undefined\") {require([\"nbextensions/vpython_libraries/jquery-ui.custom.min\"], function(){console.log(\"JQUERY LOADED\");});}else{element.textContent = ' ';}"
      ],
      "text/plain": [
       "<IPython.core.display.Javascript object>"
      ]
     },
     "metadata": {},
     "output_type": "display_data"
    }
   ],
   "source": [
    "from vpython import *\n",
    "\n",
    "display(width=600,height=600,center=vector(6,0,0),background=color.white)\n",
    "Mass = box(pos=vector(12,0,0),velocity=vector(0,0,0),size=vector(1,1,1),mass=1.0,color=color.blue)\n",
    "pivot=vector(0,0,0)\n",
    "spring=helix(pos=pivot,axis=Mass.pos-pivot,radius=0.4,constant=1,thickness=0.1,coils=20,color=color.red)\n",
    "eq=vector(9,0,0)\n",
    "t=0\n",
    "dt=0.01\n",
    "\n",
    "while (t<50):\n",
    "    rate(100)\n",
    "    acc = (eq-Mass.pos)*(spring.constant/Mass.mass)\n",
    "    Mass.velocity = Mass.velocity+acc*dt\n",
    "    Mass.pos = Mass.pos+Mass.velocity*dt\n",
    "    spring.axis = Mass.pos-spring.pos\n",
    "    t=t+dt"
   ]
  }
 ],
 "metadata": {
  "kernelspec": {
   "display_name": "Python 3 (ipykernel)",
   "language": "python",
   "name": "python3"
  },
  "language_info": {
   "codemirror_mode": {
    "name": "ipython",
    "version": 3
   },
   "file_extension": ".py",
   "mimetype": "text/x-python",
   "name": "python",
   "nbconvert_exporter": "python",
   "pygments_lexer": "ipython3",
   "version": "3.9.5"
  }
 },
 "nbformat": 4,
 "nbformat_minor": 5
}
